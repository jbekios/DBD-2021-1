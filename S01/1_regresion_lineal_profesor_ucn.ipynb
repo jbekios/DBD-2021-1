{
 "cells": [
  {
   "cell_type": "markdown",
   "metadata": {
    "slideshow": {
     "slide_type": "slide"
    }
   },
   "source": [
    "<center>\n",
    "    <img src='images/small-uai.jpeg'style=\"width: 300px;\">\n",
    "</center>\n",
    "\n",
    "# Laboratorio S01: Tensores y regresión lineal\n",
    "\n",
    "## _Deep learning_\n",
    "   \n",
    "<center>\n",
    "    <img src='images/regresion-lineal-python.png'style=\"width: 400px;\">\n",
    "    <sub><sup>https://miro.medium.com/max/1900/1*TzBsVJUXqofGqdsBJRvXEw.png</sup></sub> \n",
    "</center>\n",
    "\n",
    "**Profesor**: Dr. Juan Bekios Calfa\n",
    "\n",
    "**Grado**: MIA"
   ]
  },
  {
   "cell_type": "markdown",
   "metadata": {
    "id": "7vCDOgrxA6qM",
    "slideshow": {
     "slide_type": "slide"
    }
   },
   "source": [
    "# Laboratorio 01: Regresión Lineal y Redes Neuronales\n",
    "\n",
    "## Objetivo:\n",
    "\n",
    "1.   Introducción a tensores.\n",
    "2.   Implementar el algoritmo de regresión lineal utilizando Python.\n",
    "3.   Implementar el algoritmo de regresión lineal utilizando las librerías Torch.\n",
    "4. Implementar el algoritmo de regresión lineal utilizando Torch."
   ]
  },
  {
   "cell_type": "markdown",
   "metadata": {
    "slideshow": {
     "slide_type": "slide"
    }
   },
   "source": [
    "## 1. Introducción a tensores\n",
    "\n",
    "Un tensor PyTorch es básicamente lo mismo que una matriz numpy: no sabe nada sobre aprendizaje profundo o \n",
    "gráficos computacionales o gradientes, y es solo una matriz genérica n-dimensional que se utilizará para \n",
    "el cálculo numérico arbitrario.\n",
    "\n",
    "![picture](https://empresas.blogthinkbig.com/wp-content/uploads/2020/04/tensor1.png?resize=640%2C423)\n"
   ]
  },
  {
   "cell_type": "markdown",
   "metadata": {
    "slideshow": {
     "slide_type": "slide"
    }
   },
   "source": [
    "### 1.1 Crear un tensor"
   ]
  },
  {
   "cell_type": "code",
   "execution_count": null,
   "metadata": {
    "id": "qhnsCfzJLhps",
    "slideshow": {
     "slide_type": "fragment"
    }
   },
   "outputs": [],
   "source": [
    "import torch\n",
    "import numpy as np"
   ]
  },
  {
   "cell_type": "code",
   "execution_count": null,
   "metadata": {
    "id": "snpH7Q3BUQhG",
    "slideshow": {
     "slide_type": "fragment"
    }
   },
   "outputs": [],
   "source": [
    "# Crear un tensor vacío: No inicializado\n",
    "x = torch.empty(1) # escalar\n",
    "print(x)\n",
    "\n",
    "x = torch.empty(3) # vector, 1D\n",
    "print(x)\n",
    "\n",
    "x = torch.empty(2,3) # matriz, 2D\n",
    "print(x)\n",
    "\n",
    "x = torch.empty(2,2,3) # tensor, 3 dimensions\n",
    "#x = torch.empty(2,2,2,3) # tensor, 4 dimensions\n",
    "print(x)"
   ]
  },
  {
   "cell_type": "code",
   "execution_count": null,
   "metadata": {
    "id": "L3xMn8t0lQVI",
    "slideshow": {
     "slide_type": "slide"
    }
   },
   "outputs": [],
   "source": [
    "# Lista python construir un tensor\n",
    "list = [[1,2], [3, 4], [5, 6]]\n",
    "tensor1 = torch.tensor(list)\n",
    "\n",
    "print(tensor1)\n",
    "print(tensor1.shape)\n",
    "\n",
    "# Crear un tensor de una lista\n",
    "tensor2 = torch.tensor([[1,2], [3, 4], [5, 6]])\n",
    "print(tensor2)\n",
    "\n",
    "# Crear un tensor a partir de una matriz numpy\n",
    "imagen = np.array([1,2,3,4])\n",
    "tensor3 = torch.tensor(imagen)\n",
    "#print(tensor3)\n",
    "#print(tensor3.shape)\n",
    "\n",
    "# Torch tensor de números aleatorios\n",
    "tensor4 = torch.rand(2,3)\n",
    "#print(tensor4)\n",
    "#print(tensor4.shape)"
   ]
  },
  {
   "cell_type": "markdown",
   "metadata": {
    "id": "J4soV960lSz6",
    "slideshow": {
     "slide_type": "slide"
    }
   },
   "source": [
    "### 1.2 Estructura de un tensor\n",
    "\n",
    "El método *size()* permite ver el tamaño de un tensor, su rango y las dimensiones."
   ]
  },
  {
   "cell_type": "code",
   "execution_count": null,
   "metadata": {
    "colab": {
     "base_uri": "https://localhost:8080/"
    },
    "executionInfo": {
     "elapsed": 937,
     "status": "ok",
     "timestamp": 1602109081537,
     "user": {
      "displayName": "Juan Bekios",
      "photoUrl": "https://lh3.googleusercontent.com/a-/AOh14Gi2JWCO19gvDJyrxfHfNFNiXBEKcXQjNf-Ywq-j_w=s64",
      "userId": "07279642735588932357"
     },
     "user_tz": 180
    },
    "id": "dTrpLENDlhit",
    "outputId": "450c69df-3b94-4db9-9b3c-2586a17c7948",
    "slideshow": {
     "slide_type": "fragment"
    }
   },
   "outputs": [],
   "source": [
    "print(tensor1.size())"
   ]
  },
  {
   "cell_type": "markdown",
   "metadata": {
    "id": "pg7kWWExl2n6",
    "slideshow": {
     "slide_type": "slide"
    }
   },
   "source": [
    "### 1.3 Acceso a un tensor\n",
    "\n",
    "Los elementos de un tensor pueden ser accesados de la misma manera que en **numpy** (librerías de matrices de Python)."
   ]
  },
  {
   "cell_type": "code",
   "execution_count": null,
   "metadata": {
    "colab": {
     "base_uri": "https://localhost:8080/"
    },
    "executionInfo": {
     "elapsed": 987,
     "status": "ok",
     "timestamp": 1602109084075,
     "user": {
      "displayName": "Juan Bekios",
      "photoUrl": "https://lh3.googleusercontent.com/a-/AOh14Gi2JWCO19gvDJyrxfHfNFNiXBEKcXQjNf-Ywq-j_w=s64",
      "userId": "07279642735588932357"
     },
     "user_tz": 180
    },
    "id": "YxgQRPPMmOOj",
    "outputId": "e63abbad-efd4-49b1-d5d9-76d17370d996",
    "slideshow": {
     "slide_type": "fragment"
    }
   },
   "outputs": [],
   "source": [
    "print(tensor1)\n",
    "print(tensor1[1]) # Obtengo la fila dos de el tensor (completa)\n",
    "print(tensor1[1,1]) # Obtengo el elemento de la posición de la fila 2 y columna 2"
   ]
  },
  {
   "cell_type": "markdown",
   "metadata": {
    "id": "6Dm5Doa8mQ0a",
    "slideshow": {
     "slide_type": "slide"
    }
   },
   "source": [
    "### 1.4 Uso de tensores con CUDA (GPU)\n",
    "\n",
    "Pytorch permite trabajar con CUDA para realizar operaciones matemáticas en GPU (Si se cuenta con una)."
   ]
  },
  {
   "cell_type": "code",
   "execution_count": 42,
   "metadata": {
    "colab": {
     "base_uri": "https://localhost:8080/"
    },
    "executionInfo": {
     "elapsed": 910,
     "status": "ok",
     "timestamp": 1602109139954,
     "user": {
      "displayName": "Juan Bekios",
      "photoUrl": "https://lh3.googleusercontent.com/a-/AOh14Gi2JWCO19gvDJyrxfHfNFNiXBEKcXQjNf-Ywq-j_w=s64",
      "userId": "07279642735588932357"
     },
     "user_tz": 180
    },
    "id": "Baa-vuX3mqyl",
    "outputId": "63db5b32-f6ac-4677-a0a4-24464f5ab792",
    "slideshow": {
     "slide_type": "fragment"
    }
   },
   "outputs": [
    {
     "name": "stdout",
     "output_type": "stream",
     "text": [
      "True\n",
      "0\n",
      "GeForce GTX 1660 SUPER\n"
     ]
    }
   ],
   "source": [
    "print(torch.cuda.is_available())\n",
    "print(torch.cuda.current_device())\n",
    "print(torch.cuda.get_device_name(0))"
   ]
  },
  {
   "cell_type": "markdown",
   "metadata": {
    "id": "NbUSGAx6m1uP",
    "slideshow": {
     "slide_type": "slide"
    }
   },
   "source": [
    "### 1.5 CPU vs GPU"
   ]
  },
  {
   "cell_type": "code",
   "execution_count": 44,
   "metadata": {
    "colab": {
     "base_uri": "https://localhost:8080/",
     "height": 51
    },
    "id": "NU2tgIg2m9ry",
    "outputId": "c7097f69-8f29-4b1c-af04-6343f9a09c3b",
    "slideshow": {
     "slide_type": "fragment"
    }
   },
   "outputs": [
    {
     "name": "stdout",
     "output_type": "stream",
     "text": [
      "CPU times: user 58.3 s, sys: 136 ms, total: 58.4 s\n",
      "Wall time: 14.2 s\n"
     ]
    }
   ],
   "source": [
    "%%time\n",
    "# Tiempo CPU\n",
    "for i in range(500):\n",
    "  x = torch.randn(1000, 1000)\n",
    "  y = torch.randn(1000, 1000)\n",
    "  z = torch.matmul(x, y)\n"
   ]
  },
  {
   "cell_type": "code",
   "execution_count": 46,
   "metadata": {
    "id": "31KV490LnFd8",
    "slideshow": {
     "slide_type": "fragment"
    }
   },
   "outputs": [
    {
     "name": "stdout",
     "output_type": "stream",
     "text": [
      "tensor([[1, 2],\n",
      "        [3, 4],\n",
      "        [5, 6]], device='cuda:0')\n",
      "CPU times: user 340 ms, sys: 114 ms, total: 454 ms\n",
      "Wall time: 457 ms\n"
     ]
    }
   ],
   "source": [
    "%%time\n",
    "# Tiempo GPU\n",
    "cuda0 = torch.device('cuda:0')\n",
    "for i in range(500):\n",
    "  x = torch.randn(1000, 1000, device=cuda0)\n",
    "  y = torch.randn(1000, 1000, device=cuda0)\n",
    "  z = torch.matmul(x, y)\n",
    "\n",
    "A = torch.tensor([[1,2], [3, 4], [5, 6]], device=cuda0)\n",
    "print(A)"
   ]
  },
  {
   "cell_type": "markdown",
   "metadata": {
    "id": "gt4a3AjEkPrY",
    "slideshow": {
     "slide_type": "slide"
    }
   },
   "source": [
    "## 2. Regresión lineal (I):\n",
    "\n",
    "Se realiza el cálculo de una regresión lineal por medio del cálculo manual de los gradientes (derivada de la función de pérdida).\n",
    "\n",
    "Como ejemplo utilizaremos base de datos muy simple. La hipótesis será lineal:\n",
    "\n",
    "$$y = \\theta_0 \\cdot x$$\n",
    "\n",
    "Sin intercepto o _bias_ para simplificar el problema y explicarlo con claridad.\n"
   ]
  },
  {
   "cell_type": "markdown",
   "metadata": {
    "slideshow": {
     "slide_type": "slide"
    }
   },
   "source": [
    "### Base de datos"
   ]
  },
  {
   "cell_type": "code",
   "execution_count": 49,
   "metadata": {
    "colab": {
     "base_uri": "https://localhost:8080/",
     "height": 295
    },
    "executionInfo": {
     "elapsed": 921,
     "status": "ok",
     "timestamp": 1602109597796,
     "user": {
      "displayName": "Juan Bekios",
      "photoUrl": "https://lh3.googleusercontent.com/a-/AOh14Gi2JWCO19gvDJyrxfHfNFNiXBEKcXQjNf-Ywq-j_w=s64",
      "userId": "07279642735588932357"
     },
     "user_tz": 180
    },
    "id": "xrWoBdg5KRXf",
    "outputId": "e114ddff-7532-43ba-c3af-4409544605f8",
    "slideshow": {
     "slide_type": "fragment"
    }
   },
   "outputs": [
    {
     "data": {
      "image/png": "[encoded data removed]",
      "text/plain": [
       "<Figure size 360x216 with 1 Axes>"
      ]
     },
     "metadata": {
      "needs_background": "light"
     },
     "output_type": "display_data"
    }
   ],
   "source": [
    "import matplotlib.pyplot as plt\n",
    "\n",
    "plt.figure(figsize=(5, 3))\n",
    "\n",
    "X = np.array([1, 2, 3, 4], dtype=np.float32)\n",
    "y = np.array([2, 4, 6, 8], dtype=np.float32)\n",
    "\n",
    "plt.plot(X, y, marker='o', markerfacecolor='red')\n",
    "plt.title('Título del gráfico')\n",
    "plt.xlabel('X')\n",
    "plt.ylabel('y')\n",
    "plt.grid(True)"
   ]
  },
  {
   "cell_type": "markdown",
   "metadata": {
    "slideshow": {
     "slide_type": "slide"
    }
   },
   "source": [
    "### 2.1 Regresión lineal utilizando descenso de gradiente\n",
    "\n",
    "Para calcular una regresión lineal utilizando **descenso de gradiente** debemos contar con los siguientes constructos:\n",
    "\n"
   ]
  },
  {
   "cell_type": "markdown",
   "metadata": {
    "slideshow": {
     "slide_type": "fragment"
    }
   },
   "source": [
    "*  **Hipótesis:** Función de lineal, para el ejemplo nuestra hipótesis será: $$\\hat{y}=\\theta_0 \\cdot x$$ Es la fución que hace la predicción una vez que fueron aprendidos los parámetros, también se denota como: $$\\hat{y}=h_\\theta(x)$$\n"
   ]
  },
  {
   "cell_type": "markdown",
   "metadata": {
    "slideshow": {
     "slide_type": "fragment"
    }
   },
   "source": [
    "*  **Función de pérdida**: Error cuadrático medio (MSE, _mean squared error_), $$l(y,\\hat{y})=\\frac{1}{N}\\cdot (y -\\hat{y})^2$$"
   ]
  },
  {
   "cell_type": "markdown",
   "metadata": {
    "slideshow": {
     "slide_type": "slide"
    }
   },
   "source": [
    "*  **Derivada de la función de pérdida**: $$\\frac{dl}{d\\theta_0} = \\frac{1}{N}\\cdot 2x(\\theta_0 x - y)$$"
   ]
  },
  {
   "cell_type": "code",
   "execution_count": 50,
   "metadata": {
    "id": "50Z3BUVpA2sy",
    "slideshow": {
     "slide_type": "slide"
    }
   },
   "outputs": [
    {
     "name": "stdout",
     "output_type": "stream",
     "text": [
      "Predicción antes de entrenar: f(5) = 0.000\n"
     ]
    }
   ],
   "source": [
    "import numpy as np\n",
    "\n",
    "X = np.array([1, 2, 3, 4], dtype=np.float32)\n",
    "y = np.array([2, 4, 6, 8], dtype=np.float32)\n",
    "\n",
    "# Inicializo con cualquier valor los tetas (W)\n",
    "W = 0.0\n",
    "\n",
    "# Hipótesis: Lineal (f(x)=w*x)\n",
    "def forward(x):\n",
    "  return W * x\n",
    "\n",
    "# Loss: MSE\n",
    "def loss(y, y_pred):\n",
    "  return ((y - y_pred)**2).mean()\n",
    "\n",
    "# Gradiente\n",
    "# L = MSE = 1/N * (w*x - y) ** 2\n",
    "# dL/dW = 1/N * 2x(w*x -y)\n",
    "def gradient(x, y, y_pred):\n",
    "  return np.dot(2*x, y_pred - y).mean()\n",
    "\n",
    "print(f'Predicción antes de entrenar: f(5) = {forward(5):.3f}')"
   ]
  },
  {
   "cell_type": "code",
   "execution_count": 51,
   "metadata": {
    "id": "50Z3BUVpA2sy",
    "slideshow": {
     "slide_type": "slide"
    }
   },
   "outputs": [
    {
     "name": "stdout",
     "output_type": "stream",
     "text": [
      "epoch 1: w = 1.200, loss = 30.00000000\n",
      "epoch 3: w = 1.872, loss = 0.76800019\n",
      "epoch 5: w = 1.980, loss = 0.01966083\n",
      "epoch 7: w = 1.997, loss = 0.00050332\n",
      "epoch 9: w = 1.999, loss = 0.00001288\n",
      "epoch 11: w = 2.000, loss = 0.00000033\n",
      "epoch 13: w = 2.000, loss = 0.00000001\n",
      "epoch 15: w = 2.000, loss = 0.00000000\n",
      "epoch 17: w = 2.000, loss = 0.00000000\n",
      "epoch 19: w = 2.000, loss = 0.00000000\n",
      "Predicción después de entrenar: f(5) = 10.000\n"
     ]
    }
   ],
   "source": [
    "# Entrenar nuestro modelo: Descenso de gradiente.\n",
    "learning_rate = 0.01\n",
    "n_iter = 20\n",
    "\n",
    "for epoch in range(n_iter):\n",
    "  # Prediccion\n",
    "  y_pred = forward(X)\n",
    "\n",
    "  # Error\n",
    "  l = loss(y, y_pred)\n",
    "\n",
    "  # Calculo de gradientes \n",
    "  dw = gradient(X, y, y_pred)\n",
    "\n",
    "  # Actualizar los pesos\n",
    "  W = W - learning_rate * dw\n",
    "\n",
    "  if epoch % 2 == 0:\n",
    "    print(f'epoch {epoch+1}: w = {W:.3f}, loss = {l:.8f}')\n",
    "\n",
    "print(f'Predicción después de entrenar: f(5) = {forward(5):.3f}')"
   ]
  },
  {
   "cell_type": "markdown",
   "metadata": {
    "id": "1UkSZO4NEF_O",
    "slideshow": {
     "slide_type": "slide"
    }
   },
   "source": [
    "### 2.2 Regresión lineal (II):\n",
    "\n",
    "En este caso se realiza el cálculo de los parámetros de la regresión lineal por medio del cálculo manual de los gradientes (derivada de la función de pérdida)."
   ]
  },
  {
   "cell_type": "code",
   "execution_count": 52,
   "metadata": {
    "colab": {
     "base_uri": "https://localhost:8080/",
     "height": 221
    },
    "id": "9kjA_xKcEVS4",
    "outputId": "6b82ce62-066b-436c-fe67-f3d77b668ad4",
    "slideshow": {
     "slide_type": "slide"
    }
   },
   "outputs": [
    {
     "name": "stdout",
     "output_type": "stream",
     "text": [
      "Prediccion antes del entrenamiento: f(5) = 0.000\n"
     ]
    }
   ],
   "source": [
    "import torch\n",
    "\n",
    "# Pasar todos los vectores a tensores\n",
    "X = torch.tensor([1, 2, 3, 4], dtype=torch.float32)\n",
    "y = torch.tensor([2, 4, 6, 8], dtype=torch.float32)\n",
    "\n",
    "w = torch.tensor(0.0, dtype=torch.float32, requires_grad=True)\n",
    "\n",
    "# Salida modelo (prediccion del modelo)\n",
    "def forward(x):\n",
    "  return x * w\n",
    "  \n",
    "# loss = MSE\n",
    "def loss(y, y_pred):\n",
    "  return ((y_pred - y)**2).mean()\n",
    "\n",
    "print(f'Prediccion antes del entrenamiento: f(5) = {forward(5).item():.3f}')"
   ]
  },
  {
   "cell_type": "code",
   "execution_count": 55,
   "metadata": {
    "colab": {
     "base_uri": "https://localhost:8080/",
     "height": 221
    },
    "id": "9kjA_xKcEVS4",
    "outputId": "6b82ce62-066b-436c-fe67-f3d77b668ad4",
    "slideshow": {
     "slide_type": "slide"
    }
   },
   "outputs": [
    {
     "name": "stdout",
     "output_type": "stream",
     "text": [
      "epoch 0: w = 2.000, loss = 0.00000000\n",
      "epoch 3: w = 2.000, loss = 0.00000000\n",
      "epoch 6: w = 2.000, loss = 0.00000000\n",
      "epoch 9: w = 2.000, loss = 0.00000000\n",
      "epoch 12: w = 2.000, loss = 0.00000000\n",
      "epoch 15: w = 2.000, loss = 0.00000000\n",
      "epoch 18: w = 2.000, loss = 0.00000000\n",
      "epoch 21: w = 2.000, loss = 0.00000000\n",
      "epoch 24: w = 2.000, loss = 0.00000000\n",
      "epoch 27: w = 2.000, loss = 0.00000000\n",
      "epoch 30: w = 2.000, loss = 0.00000000\n",
      "epoch 33: w = 2.000, loss = 0.00000000\n",
      "epoch 36: w = 2.000, loss = 0.00000000\n",
      "epoch 39: w = 2.000, loss = 0.00000000\n",
      "epoch 42: w = 2.000, loss = 0.00000000\n",
      "epoch 45: w = 2.000, loss = 0.00000000\n",
      "epoch 48: w = 2.000, loss = 0.00000000\n",
      "Predicción después de entrenar: f(5) = 10.000\n"
     ]
    }
   ],
   "source": [
    "# Fase: Entrenamiento\n",
    "learning_rate = 0.02\n",
    "n_iter = 50\n",
    "\n",
    "for epoch in range(n_iter):\n",
    "  # 1. Prediccion\n",
    "  y_pred = forward(X)\n",
    "\n",
    "  # 2. Calcular error\n",
    "  l = loss(y, y_pred)\n",
    "\n",
    "  # 3. Calcular los gradientes\n",
    "  l.backward()\n",
    "\n",
    "  # 4. Actualizar los pesos\n",
    "  with torch.no_grad():\n",
    "    w -= learning_rate * w.grad\n",
    "\n",
    "  # 5. Dejar en zero los valores de gradiente de w\n",
    "  w.grad.zero_()\n",
    "\n",
    "  if epoch % 3 == 0:\n",
    "    print(f'epoch {epoch}: w = {w.item():.3f}, loss = {l.item():.8f}')\n",
    "\n",
    "print(f'Predicción después de entrenar: f(5) = {forward(5).item():.3f}')\n"
   ]
  },
  {
   "cell_type": "markdown",
   "metadata": {
    "id": "JybHBi59hvL3",
    "slideshow": {
     "slide_type": "slide"
    }
   },
   "source": [
    "### 2.3. Regresión lineal (III):\n",
    "\n",
    "Cálculo de los parámetros de la regresión lineal utilizando Pytorch (derivada de la función de pérdida)."
   ]
  },
  {
   "cell_type": "code",
   "execution_count": 58,
   "metadata": {
    "id": "o0ApQnGuhoZW",
    "slideshow": {
     "slide_type": "slide"
    }
   },
   "outputs": [],
   "source": [
    "import torch # Librerias base\n",
    "import torch.nn as nn # Construir los modelos\n",
    "import numpy as np    \n",
    "import matplotlib.pyplot as plt"
   ]
  },
  {
   "cell_type": "code",
   "execution_count": 59,
   "metadata": {
    "id": "o0ApQnGuhoZW",
    "slideshow": {
     "slide_type": "slide"
    }
   },
   "outputs": [],
   "source": [
    "def gradiente_descent(X, y, iters=10):\n",
    "  n_samples, n_features = X.shape\n",
    "\n",
    "  # 1.1) Defino la hipotesis\n",
    "  input_size = n_features\n",
    "  output_size = 1\n",
    "  model = nn.Linear(input_size, output_size, bias=False)\n",
    "\n",
    "  # 1.2) Funcion de perdida y configurar los parametros del optimizador\n",
    "  learning_rate = 0.01\n",
    "  criterion = nn.MSELoss()\n",
    "  optimizer = torch.optim.SGD(model.parameters(), lr=learning_rate)\n",
    "\n",
    "  # 1.3) Ciclo de entrenamiento\n",
    "  num_epochs = iters\n",
    "  for epoch in range(num_epochs):\n",
    "    # Calcular la prediccion\n",
    "    y_predicted = model(X)\n",
    "    loss = criterion(y_predicted, y)\n",
    "\n",
    "    # Actualiza el modelo\n",
    "    loss.backward() #Calcular los gradientes\n",
    "    optimizer.step()\n",
    "\n",
    "    # Dejar los gradientes en cero\n",
    "    optimizer.zero_grad()\n",
    "\n",
    "    if epoch % 2 == 0:\n",
    "      print(f'epoch {epoch}:  loss = {loss.item():.8f}') \n",
    "    \n",
    "  return model  "
   ]
  },
  {
   "cell_type": "code",
   "execution_count": 60,
   "metadata": {
    "id": "o0ApQnGuhoZW",
    "slideshow": {
     "slide_type": "slide"
    }
   },
   "outputs": [],
   "source": [
    "def plot_fit(X_numpy, y_numpy, y_pred):\n",
    "  plt.plot(X_numpy, y_numpy, 'ro', label='$Y_{real}$')\n",
    "  plt.plot(X_numpy, y_pred, 'bo', label='$Y_{estimado}$')\n",
    "  plt.xlabel('X - Variable Independiente')\n",
    "  plt.ylabel('Y - Variable Dependiente')\n",
    "  plt.legend(bbox_to_anchor=(1.05, 1), loc='upper left', borderaxespad=0.)\n",
    "  plt.show()\n"
   ]
  },
  {
   "cell_type": "markdown",
   "metadata": {
    "slideshow": {
     "slide_type": "slide"
    }
   },
   "source": [
    "## 3. Visualización del descenso de gradiente"
   ]
  },
  {
   "cell_type": "code",
   "execution_count": 64,
   "metadata": {
    "colab": {
     "base_uri": "https://localhost:8080/",
     "height": 299
    },
    "executionInfo": {
     "elapsed": 2434,
     "status": "ok",
     "timestamp": 1602772549128,
     "user": {
      "displayName": "Juan Bekios",
      "photoUrl": "https://lh3.googleusercontent.com/a-/AOh14Gi2JWCO19gvDJyrxfHfNFNiXBEKcXQjNf-Ywq-j_w=s64",
      "userId": "07279642735588932357"
     },
     "user_tz": 180
    },
    "id": "8QVMeHhu2vjM",
    "outputId": "2ba06f7a-7e45-494a-e00e-d457b102e62a",
    "slideshow": {
     "slide_type": "slide"
    }
   },
   "outputs": [
    {
     "name": "stdout",
     "output_type": "stream",
     "text": [
      "epoch 0:  loss = 6217.76318359\n"
     ]
    },
    {
     "data": {
      "image/png": "[encoded data removed]",
      "text/plain": [
       "<Figure size 432x288 with 1 Axes>"
      ]
     },
     "metadata": {
      "needs_background": "light"
     },
     "output_type": "display_data"
    }
   ],
   "source": [
    "from sklearn import datasets\n",
    "#import matplotlib.pyplot as plt\n",
    "\n",
    "# 0) Cargar datos\n",
    "X_numpy, y_numpy = datasets.make_regression(n_samples=100, n_features=1, noise=40, random_state=4)\n",
    "\n",
    "# cast a Tensor\n",
    "X = torch.from_numpy(X_numpy.astype(np.float32))\n",
    "y = torch.from_numpy(y_numpy.astype(np.float32))\n",
    "y = y.view(y.shape[0],1)\n",
    "\n",
    "# 1) Entrenamiento\n",
    "model = gradiente_descent(X, y, iters=1)\n",
    "\n",
    "# 2) Graficar\n",
    "predicted = model(X).detach().numpy()\n",
    "\n",
    "plot_fit(X_numpy, y_numpy, predicted)"
   ]
  },
  {
   "cell_type": "code",
   "execution_count": 65,
   "metadata": {
    "colab": {
     "base_uri": "https://localhost:8080/",
     "height": 333
    },
    "executionInfo": {
     "elapsed": 1747,
     "status": "ok",
     "timestamp": 1602772553583,
     "user": {
      "displayName": "Juan Bekios",
      "photoUrl": "https://lh3.googleusercontent.com/a-/AOh14Gi2JWCO19gvDJyrxfHfNFNiXBEKcXQjNf-Ywq-j_w=s64",
      "userId": "07279642735588932357"
     },
     "user_tz": 180
    },
    "id": "Fuj6P0v-7BX6",
    "outputId": "15364414-ef4a-4890-8667-637965cc48d1",
    "slideshow": {
     "slide_type": "slide"
    }
   },
   "outputs": [
    {
     "name": "stdout",
     "output_type": "stream",
     "text": [
      "epoch 0:  loss = 6238.56005859\n",
      "epoch 2:  loss = 5864.39550781\n",
      "epoch 4:  loss = 5517.80517578\n"
     ]
    },
    {
     "data": {
      "image/png": "[encoded data removed]",
      "text/plain": [
       "<Figure size 432x288 with 1 Axes>"
      ]
     },
     "metadata": {
      "needs_background": "light"
     },
     "output_type": "display_data"
    }
   ],
   "source": [
    "# 1) Entrenamiento\n",
    "model = gradiente_descent(X, y, iters=5)\n",
    "\n",
    "# 2) Graficar\n",
    "predicted = model(X).detach().numpy()\n",
    "\n",
    "plot_fit(X_numpy, y_numpy, predicted)"
   ]
  },
  {
   "cell_type": "code",
   "execution_count": 66,
   "metadata": {
    "colab": {
     "base_uri": "https://localhost:8080/",
     "height": 452
    },
    "executionInfo": {
     "elapsed": 2554,
     "status": "ok",
     "timestamp": 1602772558488,
     "user": {
      "displayName": "Juan Bekios",
      "photoUrl": "https://lh3.googleusercontent.com/a-/AOh14Gi2JWCO19gvDJyrxfHfNFNiXBEKcXQjNf-Ywq-j_w=s64",
      "userId": "07279642735588932357"
     },
     "user_tz": 180
    },
    "id": "SyttTfRd7BMR",
    "outputId": "70308abb-b5d0-4f61-f3a7-b5b1a6ed2091",
    "slideshow": {
     "slide_type": "slide"
    }
   },
   "outputs": [
    {
     "name": "stdout",
     "output_type": "stream",
     "text": [
      "epoch 0:  loss = 6209.78515625\n",
      "epoch 2:  loss = 5837.74121094\n",
      "epoch 4:  loss = 5493.11523438\n",
      "epoch 6:  loss = 5173.88525391\n",
      "epoch 8:  loss = 4878.18212891\n",
      "epoch 10:  loss = 4604.27148438\n",
      "epoch 12:  loss = 4350.54541016\n",
      "epoch 14:  loss = 4115.51855469\n",
      "epoch 16:  loss = 3897.81274414\n",
      "epoch 18:  loss = 3696.14990234\n"
     ]
    },
    {
     "data": {
      "image/png": "[encoded data removed]",
      "text/plain": [
       "<Figure size 432x288 with 1 Axes>"
      ]
     },
     "metadata": {
      "needs_background": "light"
     },
     "output_type": "display_data"
    }
   ],
   "source": [
    "# 1) Entrenamiento\n",
    "model = gradiente_descent(X, y, iters=20)\n",
    "\n",
    "# 2) Graficar\n",
    "predicted = model(X).detach().numpy()\n",
    "\n",
    "plot_fit(X_numpy, y_numpy, predicted)"
   ]
  },
  {
   "cell_type": "code",
   "execution_count": 67,
   "metadata": {
    "id": "c3bQfMyZ7AvQ",
    "slideshow": {
     "slide_type": "slide"
    }
   },
   "outputs": [
    {
     "name": "stdout",
     "output_type": "stream",
     "text": [
      "epoch 0:  loss = 6399.86376953\n",
      "epoch 2:  loss = 6013.81103516\n",
      "epoch 4:  loss = 5656.20947266\n",
      "epoch 6:  loss = 5324.96044922\n",
      "epoch 8:  loss = 5018.12353516\n",
      "epoch 10:  loss = 4733.89990234\n",
      "epoch 12:  loss = 4470.62158203\n",
      "epoch 14:  loss = 4226.74560547\n",
      "epoch 16:  loss = 4000.84228516\n",
      "epoch 18:  loss = 3791.58691406\n",
      "epoch 20:  loss = 3597.75292969\n",
      "epoch 22:  loss = 3418.20312500\n",
      "epoch 24:  loss = 3251.88598633\n",
      "epoch 26:  loss = 3097.82519531\n",
      "epoch 28:  loss = 2955.11865234\n",
      "epoch 30:  loss = 2822.92846680\n",
      "epoch 32:  loss = 2700.48022461\n",
      "epoch 34:  loss = 2587.05615234\n",
      "epoch 36:  loss = 2481.99072266\n",
      "epoch 38:  loss = 2384.66772461\n",
      "epoch 40:  loss = 2294.51757812\n",
      "epoch 42:  loss = 2211.01098633\n",
      "epoch 44:  loss = 2133.65820312\n",
      "epoch 46:  loss = 2062.00634766\n",
      "epoch 48:  loss = 1995.63452148\n",
      "epoch 50:  loss = 1934.15417480\n",
      "epoch 52:  loss = 1877.20471191\n",
      "epoch 54:  loss = 1824.45190430\n",
      "epoch 56:  loss = 1775.58666992\n",
      "epoch 58:  loss = 1730.32324219\n",
      "epoch 60:  loss = 1688.39465332\n",
      "epoch 62:  loss = 1649.55651855\n",
      "epoch 64:  loss = 1613.58044434\n",
      "epoch 66:  loss = 1580.25561523\n",
      "epoch 68:  loss = 1549.38684082\n",
      "epoch 70:  loss = 1520.79260254\n",
      "epoch 72:  loss = 1494.30615234\n",
      "epoch 74:  loss = 1469.77124023\n",
      "epoch 76:  loss = 1447.04443359\n",
      "epoch 78:  loss = 1425.99267578\n",
      "epoch 80:  loss = 1406.49230957\n",
      "epoch 82:  loss = 1388.42907715\n",
      "epoch 84:  loss = 1371.69689941\n",
      "epoch 86:  loss = 1356.19775391\n",
      "epoch 88:  loss = 1341.84106445\n",
      "epoch 90:  loss = 1328.54235840\n",
      "epoch 92:  loss = 1316.22363281\n",
      "epoch 94:  loss = 1304.81262207\n",
      "epoch 96:  loss = 1294.24267578\n",
      "epoch 98:  loss = 1284.45153809\n",
      "epoch 100:  loss = 1275.38208008\n",
      "epoch 102:  loss = 1266.98107910\n",
      "epoch 104:  loss = 1259.19909668\n",
      "epoch 106:  loss = 1251.99072266\n",
      "epoch 108:  loss = 1245.31335449\n",
      "epoch 110:  loss = 1239.12817383\n",
      "epoch 112:  loss = 1233.39880371\n",
      "epoch 114:  loss = 1228.09167480\n",
      "epoch 116:  loss = 1223.17590332\n",
      "epoch 118:  loss = 1218.62219238\n",
      "epoch 120:  loss = 1214.40393066\n",
      "epoch 122:  loss = 1210.49670410\n",
      "epoch 124:  loss = 1206.87744141\n",
      "epoch 126:  loss = 1203.52478027\n",
      "epoch 128:  loss = 1200.41943359\n",
      "epoch 130:  loss = 1197.54248047\n",
      "epoch 132:  loss = 1194.87792969\n",
      "epoch 134:  loss = 1192.40966797\n",
      "epoch 136:  loss = 1190.12341309\n",
      "epoch 138:  loss = 1188.00549316\n",
      "epoch 140:  loss = 1186.04357910\n",
      "epoch 142:  loss = 1184.22631836\n",
      "epoch 144:  loss = 1182.54309082\n",
      "epoch 146:  loss = 1180.98388672\n",
      "epoch 148:  loss = 1179.53955078\n",
      "epoch 150:  loss = 1178.20153809\n",
      "epoch 152:  loss = 1176.96228027\n",
      "epoch 154:  loss = 1175.81420898\n",
      "epoch 156:  loss = 1174.75085449\n",
      "epoch 158:  loss = 1173.76586914\n",
      "epoch 160:  loss = 1172.85351562\n",
      "epoch 162:  loss = 1172.00817871\n",
      "epoch 164:  loss = 1171.22521973\n",
      "epoch 166:  loss = 1170.50012207\n",
      "epoch 168:  loss = 1169.82824707\n",
      "epoch 170:  loss = 1169.20617676\n",
      "epoch 172:  loss = 1168.62988281\n",
      "epoch 174:  loss = 1168.09582520\n",
      "epoch 176:  loss = 1167.60144043\n",
      "epoch 178:  loss = 1167.14331055\n",
      "epoch 180:  loss = 1166.71887207\n",
      "epoch 182:  loss = 1166.32580566\n",
      "epoch 184:  loss = 1165.96166992\n",
      "epoch 186:  loss = 1165.62438965\n",
      "epoch 188:  loss = 1165.31201172\n",
      "epoch 190:  loss = 1165.02270508\n",
      "epoch 192:  loss = 1164.75451660\n",
      "epoch 194:  loss = 1164.50610352\n",
      "epoch 196:  loss = 1164.27612305\n",
      "epoch 198:  loss = 1164.06311035\n",
      "epoch 200:  loss = 1163.86572266\n",
      "epoch 202:  loss = 1163.68286133\n",
      "epoch 204:  loss = 1163.51354980\n",
      "epoch 206:  loss = 1163.35668945\n",
      "epoch 208:  loss = 1163.21142578\n",
      "epoch 210:  loss = 1163.07678223\n",
      "epoch 212:  loss = 1162.95202637\n",
      "epoch 214:  loss = 1162.83642578\n",
      "epoch 216:  loss = 1162.72949219\n",
      "epoch 218:  loss = 1162.63049316\n",
      "epoch 220:  loss = 1162.53869629\n",
      "epoch 222:  loss = 1162.45373535\n",
      "epoch 224:  loss = 1162.37500000\n",
      "epoch 226:  loss = 1162.30200195\n",
      "epoch 228:  loss = 1162.23449707\n",
      "epoch 230:  loss = 1162.17175293\n",
      "epoch 232:  loss = 1162.11376953\n",
      "epoch 234:  loss = 1162.06005859\n",
      "epoch 236:  loss = 1162.01025391\n",
      "epoch 238:  loss = 1161.96423340\n",
      "epoch 240:  loss = 1161.92150879\n",
      "epoch 242:  loss = 1161.88195801\n",
      "epoch 244:  loss = 1161.84533691\n",
      "epoch 246:  loss = 1161.81140137\n",
      "epoch 248:  loss = 1161.77990723\n",
      "epoch 250:  loss = 1161.75085449\n",
      "epoch 252:  loss = 1161.72399902\n",
      "epoch 254:  loss = 1161.69885254\n",
      "epoch 256:  loss = 1161.67578125\n",
      "epoch 258:  loss = 1161.65417480\n",
      "epoch 260:  loss = 1161.63439941\n",
      "epoch 262:  loss = 1161.61621094\n",
      "epoch 264:  loss = 1161.59912109\n",
      "epoch 266:  loss = 1161.58325195\n",
      "epoch 268:  loss = 1161.56860352\n",
      "epoch 270:  loss = 1161.55517578\n",
      "epoch 272:  loss = 1161.54248047\n",
      "epoch 274:  loss = 1161.53088379\n",
      "epoch 276:  loss = 1161.52014160\n",
      "epoch 278:  loss = 1161.51013184\n",
      "epoch 280:  loss = 1161.50109863\n",
      "epoch 282:  loss = 1161.49243164\n",
      "epoch 284:  loss = 1161.48449707\n",
      "epoch 286:  loss = 1161.47717285\n",
      "epoch 288:  loss = 1161.47033691\n",
      "epoch 290:  loss = 1161.46411133\n",
      "epoch 292:  loss = 1161.45825195\n",
      "epoch 294:  loss = 1161.45288086\n",
      "epoch 296:  loss = 1161.44787598\n",
      "epoch 298:  loss = 1161.44311523\n"
     ]
    },
    {
     "data": {
      "image/png": "[encoded data removed]",
      "text/plain": [
       "<Figure size 432x288 with 1 Axes>"
      ]
     },
     "metadata": {
      "needs_background": "light"
     },
     "output_type": "display_data"
    }
   ],
   "source": [
    "# 1) Entrenamiento\n",
    "model = gradiente_descent(X, y, iters=300)\n",
    "\n",
    "# 2) Graficar\n",
    "predicted = model(X).detach().numpy()\n",
    "\n",
    "plot_fit(X_numpy, y_numpy, predicted)"
   ]
  },
  {
   "cell_type": "code",
   "execution_count": null,
   "metadata": {
    "id": "T0UCQxCETk6a",
    "slideshow": {
     "slide_type": "slide"
    }
   },
   "outputs": [],
   "source": []
  }
 ],
 "metadata": {
  "accelerator": "GPU",
  "celltoolbar": "Slideshow",
  "colab": {
   "collapsed_sections": [],
   "name": "1_regresion_lineal_profesor_ucn.ipynb",
   "provenance": []
  },
  "kernelspec": {
   "display_name": "Python 3",
   "language": "python",
   "name": "python3"
  },
  "language_info": {
   "codemirror_mode": {
    "name": "ipython",
    "version": 3
   },
   "file_extension": ".py",
   "mimetype": "text/x-python",
   "name": "python",
   "nbconvert_exporter": "python",
   "pygments_lexer": "ipython3",
   "version": "3.7.9"
  }
 },
 "nbformat": 4,
 "nbformat_minor": 1
}
