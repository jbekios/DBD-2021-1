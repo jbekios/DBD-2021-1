{
  "nbformat": 4,
  "nbformat_minor": 0,
  "metadata": {
    "colab": {
      "name": "Laboratorio01_IntroPython_alumno_final.ipynb",
      "provenance": [],
      "collapsed_sections": []
    },
    "kernelspec": {
      "name": "python3",
      "display_name": "Python 3"
    }
  },
  "cells": [
    {
      "cell_type": "markdown",
      "metadata": {
        "id": "Zfqor7EEFSTU"
      },
      "source": [
        "![60x60-ucn-negro.png](data:image/png;base64,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)\n",
        "\n",
        "# Laboratorio 01: Introducción a Python\n",
        "\n",
        "**Temas:**\n",
        "\n",
        "*   Listas\n",
        "*   Matrices \n",
        "*   Carga de datos con pandas\n",
        "*   Gráficos\n",
        "\n",
        "## 1. Uso de listas"
      ]
    },
    {
      "cell_type": "code",
      "metadata": {
        "id": "OHVG8VZUFNA0"
      },
      "source": [
        "# Crear una lista\n",
        "lista = [1, 2, 3, 4]\n",
        "\n",
        "print('Lista:', lista)\n",
        "print('Largo de la lista:', len(lista))\n",
        "\n",
        "# Agregar un elemento a una lista \n",
        "lista.append(5)\n",
        "print('Lista con un elemento agregado:', lista)\n",
        "\n",
        "# Ver elementos  en un lista\n",
        "print('Elemento número 3:', lista[2])\n",
        "\n",
        "# Eliminar un elemento de la lista\n",
        "a = lista.pop()\n",
        "print('Elemento eliminado:', a)\n",
        "print('Ver lista actualizada', lista)\n",
        "\n",
        "# Comportamiento de lista como cola\n",
        "from collections import deque\n",
        "\n",
        "cola = deque(lista)\n",
        "print(cola)\n",
        "\n",
        "print(cola.pop())\n",
        "print(cola)"
      ],
      "execution_count": null,
      "outputs": []
    },
    {
      "cell_type": "markdown",
      "metadata": {
        "id": "dgtwxyvpFSyP"
      },
      "source": [
        "## 2. Matrices\n",
        "\n"
      ]
    },
    {
      "cell_type": "code",
      "metadata": {
        "id": "ErthHlDbHMi_"
      },
      "source": [
        "import numpy as np\n",
        "\n",
        "# Como vectot\n",
        "\n",
        "a = np.array(lista)\n",
        "print(a)\n",
        "\n",
        "b = np.array([1, 2, 3, 4])\n",
        "print(b)\n",
        "print(b.shape)\n",
        "\n",
        "c = np.array([[1,2], [3,4]])\n",
        "print(c)\n",
        "\n",
        "# Mulplicación de matrices\n",
        "d = np.ones((3,3))\n",
        "print(d)\n",
        "\n",
        "# Multiplicar con el operador * (Elemento a elemento)\n",
        "print('Multiplicación operador *\\n', d*d)\n",
        "\n",
        "print(d)\n",
        "# Multiplicación de matrices \n",
        "print('Multiplicación de matrices (álgebra lineal:\\n')\n",
        "print(np.dot(d,d), end='\\n\\n')\n",
        "print(d.dot(d), end='\\n\\n')\n",
        "print(d@d, end='\\n\\n')"
      ],
      "execution_count": null,
      "outputs": []
    },
    {
      "cell_type": "code",
      "metadata": {
        "id": "NXcpKgGbboKD"
      },
      "source": [
        "# Repito el vector 3 fila y 1 columna\n",
        "print(np.arange(0, 40, 10), end='\\n\\n')\n",
        "\n",
        "a = np.tile(np.arange(0, 40, 10), (3, 1))\n",
        "\n",
        "print(a, end='\\n\\n')\n",
        "\n",
        "# Transpuesta de la matriz\n",
        "a = a.T\n",
        "print(a, end='\\n\\n')\n",
        "\n",
        "# Crear un vector\n",
        "b = np.array([0, 1, 2])\n",
        "print('Vector b:', b, end='\\n\\n')\n",
        "\n",
        "# Sumar el vector con la matriz\n",
        "print(a+b)"
      ],
      "execution_count": null,
      "outputs": []
    },
    {
      "cell_type": "code",
      "metadata": {
        "id": "Al9v8Smic48j"
      },
      "source": [
        "# Otra forma de hacer la misma operación\n",
        "a = np.arange(0, 40, 10)\n",
        "print(a)\n",
        "\n",
        "# Convertir el vector en una matriz columna\n",
        "a = a[:, np.newaxis]\n",
        "print(a.shape)\n",
        "\n",
        "print(b)\n",
        "\n",
        "print(a+b)\n"
      ],
      "execution_count": null,
      "outputs": []
    },
    {
      "cell_type": "code",
      "metadata": {
        "id": "LBzwuXkcdWtW"
      },
      "source": [
        "a = np.ones((4,5))\n",
        "print(a)\n",
        "\n",
        "a[2] = 2\n",
        "\n",
        "print(a)"
      ],
      "execution_count": null,
      "outputs": []
    },
    {
      "cell_type": "code",
      "metadata": {
        "id": "WhGmcfSWdkKL"
      },
      "source": [
        "# Slicing\n",
        "print(a[:, 1])\n",
        "\n",
        "print(a[0:2, 0:2])"
      ],
      "execution_count": null,
      "outputs": []
    },
    {
      "cell_type": "markdown",
      "metadata": {
        "id": "4kpNgDcWXHsL"
      },
      "source": [
        "### 2.1 Sistema de Ecuaciones\n",
        "\n",
        "Resolver siguiente sistema de ecuaciones:\n",
        "\n",
        "\n",
        ">$\\begin{eqnarray}\n",
        "2x_1 + 3x_2  = 8 \\\\\n",
        "x_1 - 2x_2 = -10 \n",
        "\\end{eqnarray}$\n",
        "\n",
        "Utilizando Python y las librerías numpy.\n",
        "\n",
        "​\t\n"
      ]
    },
    {
      "cell_type": "code",
      "metadata": {
        "id": "jKvuHKLDXNgD"
      },
      "source": [
        "# Matrices como vectores\n",
        "A = np.array([[2, 3], [1, -2]])\n",
        "b = np.array([8, -10])[:, np.newaxis]\n",
        "\n",
        "print(A)\n",
        "print(b)\n",
        "\n",
        "x = np.linalg.inv(A)@b \n",
        "print(x)\n",
        "\n",
        "x = np.dot(np.linalg.inv(A), b)\n",
        "print(x)"
      ],
      "execution_count": null,
      "outputs": []
    },
    {
      "cell_type": "code",
      "metadata": {
        "id": "KQrKtOtN1ZPT"
      },
      "source": [
        "# Matrices con matrix\n",
        "A = np.matrix([[2, 3],[1, -2]])\n",
        "b = np.matrix([[8],[-10]])\n",
        "x = (A**-1)*b\n",
        "\n",
        "print('Soluciones:\\n', x)"
      ],
      "execution_count": null,
      "outputs": []
    },
    {
      "cell_type": "markdown",
      "metadata": {
        "id": "CGLyLgjHYgrh"
      },
      "source": [
        "#### Determinar si el sistema de ecuaciones se puede resolver."
      ]
    },
    {
      "cell_type": "code",
      "metadata": {
        "id": "113noHQuYmkr"
      },
      "source": [
        "if np.linalg.det(A) == 0:\n",
        "    x = None\n",
        "    print(\"No se puede resolver\")\n",
        "else:\n",
        "    x = (A**-1)*b\n",
        "\n",
        "print('Soluciones:\\n', x)"
      ],
      "execution_count": null,
      "outputs": []
    },
    {
      "cell_type": "markdown",
      "metadata": {
        "id": "pdkjB6KmY7XR"
      },
      "source": [
        "#### Resolver el sistema de ecuaciones utilizando las librerías linalg.\n"
      ]
    },
    {
      "cell_type": "code",
      "metadata": {
        "id": "Y-oT2t6BZmHT"
      },
      "source": [
        "x = np.linalg.solve(A, b)\n",
        "print(x)"
      ],
      "execution_count": null,
      "outputs": []
    },
    {
      "cell_type": "markdown",
      "metadata": {
        "id": "6qBs2ba-FS6n"
      },
      "source": [
        "## 3. Carga de datos con Pandas\n",
        "\n",
        "1. sepal length in cm \n",
        "2. sepal width in cm \n",
        "3. petal length in cm \n",
        "4. petal width in cm \n",
        "5. class: \n",
        "-- Iris Setosa \n",
        "-- Iris Versicolour \n",
        "-- Iris Virginica\n",
        "\n",
        "https://archive.ics.uci.edu/ml/datasets/iris"
      ]
    },
    {
      "cell_type": "code",
      "metadata": {
        "id": "Lj2iVzYLHVmH"
      },
      "source": [
        "import pandas as pd\n",
        "\n",
        "# Dataframe\n",
        "df = pd.read_csv('iris.data', sep=',', names=['sepal_l', 'sepal_w', 'petal_l', 'petal_w', 'clases'])\n",
        "\n",
        "df.head()"
      ],
      "execution_count": null,
      "outputs": []
    },
    {
      "cell_type": "code",
      "metadata": {
        "id": "feQ4Q782p8oI"
      },
      "source": [
        "from google.colab import drive\n",
        "drive.mount('/gdrive')\n",
        "%cd '/gdrive/MyDrive/D-UCN/Classes/Diplomado-TópicosAvanzadosDataScience/2121-1/Sesión01'"
      ],
      "execution_count": null,
      "outputs": []
    },
    {
      "cell_type": "code",
      "metadata": {
        "id": "W1ggNTSYpzPk"
      },
      "source": [
        "import pandas as pd\n",
        "\n",
        "# Dataframe\n",
        "df = pd.read_csv('iris.data', sep=',', names=['sepal_l', 'sepal_w', 'petal_l', 'petal_w', 'clases'])\n",
        "\n",
        "df.head()"
      ],
      "execution_count": null,
      "outputs": []
    },
    {
      "cell_type": "markdown",
      "metadata": {
        "id": "53SrbU78d_1F"
      },
      "source": [
        "Operaciones"
      ]
    },
    {
      "cell_type": "code",
      "metadata": {
        "id": "LmNv5FgyeAWv"
      },
      "source": [
        "df['sepal_l'].head()\n",
        "\n",
        "suma = 0\n",
        "for val in df['sepal_l']:\n",
        "  suma = suma + val\n",
        "\n",
        "print('La suma total es:', suma)"
      ],
      "execution_count": null,
      "outputs": []
    },
    {
      "cell_type": "code",
      "metadata": {
        "id": "p9HabcfueHEA"
      },
      "source": [
        "#df.iloc[:,1]\n",
        "#df.iloc[1:3,1:4]\n",
        "#df.iloc[1:3,1:]\n",
        "df.loc[10:20, ['sepal_w', 'clases']]"
      ],
      "execution_count": null,
      "outputs": []
    },
    {
      "cell_type": "markdown",
      "metadata": {
        "id": "cRDMI6z6HWY5"
      },
      "source": [
        "## 4. Gráficos\n",
        "\n",
        "Se muestran algunos gráficos para ilustrar el funcionamiento de matplotlib y seaborn."
      ]
    },
    {
      "cell_type": "code",
      "metadata": {
        "id": "6crJ7bLhHdIx"
      },
      "source": [
        "import matplotlib.pyplot as plt\n",
        "\n",
        "_ = plt.hist(df['sepal_l'], bins=30)\n",
        "_ = plt.xlabel('Largo sépalo [cm]')\n",
        "_ = plt.ylabel('Frecuecia')\n",
        "\n",
        "plt.show()"
      ],
      "execution_count": null,
      "outputs": []
    },
    {
      "cell_type": "code",
      "metadata": {
        "id": "wOHp2yaGec_3"
      },
      "source": [
        "import seaborn as sns\n",
        "\n",
        "sns.set()\n",
        "\n",
        "_ = plt.hist(df['sepal_l'], bins=30)\n",
        "_ = plt.xlabel('Largo sépalo [cm]')\n",
        "_ = plt.ylabel('Frecuecia')"
      ],
      "execution_count": null,
      "outputs": []
    },
    {
      "cell_type": "markdown",
      "metadata": {
        "id": "7eyyNMqypN_k"
      },
      "source": [
        "# Gráfico de correlaciones"
      ]
    },
    {
      "cell_type": "code",
      "metadata": {
        "id": "BqWcHmv6ed_H"
      },
      "source": [
        "sns.set(style=\"ticks\")\n",
        "sns.pairplot(df, hue='clases')"
      ],
      "execution_count": null,
      "outputs": []
    },
    {
      "cell_type": "code",
      "metadata": {
        "id": "pnaN2MpqpjFl"
      },
      "source": [
        "sns.heatmap(df.corr(), annot = True)"
      ],
      "execution_count": null,
      "outputs": []
    }
  ]
}